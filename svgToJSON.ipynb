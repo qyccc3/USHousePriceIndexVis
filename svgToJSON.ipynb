{
 "cells": [
  {
   "cell_type": "code",
   "execution_count": 2,
   "id": "2e05c8cb",
   "metadata": {},
   "outputs": [],
   "source": [
    "from bs4 import BeautifulSoup\n",
    "import lxml\n",
    "import json\n",
    "import pandas as pd"
   ]
  },
  {
   "cell_type": "code",
   "execution_count": 3,
   "id": "e30be8a9",
   "metadata": {},
   "outputs": [],
   "source": [
    "def convertSVGTOJSON(input, output):\n",
    "    with open(input, \"r\") as f:\n",
    "        data = f.read()\n",
    "    Bs_data = BeautifulSoup(data, \"xml\")\n",
    "    map = {}\n",
    "    map[\"viewBox\"] = Bs_data.find(\"svg\")[\"viewBox\"]\n",
    "    map[\"height\"] = Bs_data.find(\"svg\")[\"height\"]\n",
    "    map[\"width\"] = Bs_data.find(\"svg\")[\"width\"]\n",
    "    map[\"id\"] = Bs_data.find(\"svg\")[\"id\"]\n",
    "    elements = {}\n",
    "    for i in range(51):\n",
    "        elements[Bs_data.find_all(\"path\")[i][\"data-name\"]] = Bs_data.find_all(\"path\")[i][\"d\"]\n",
    "    map[\"paths\"] = elements\n",
    "    with open(output, \"w\") as outfile:\n",
    "        json.dump(map, outfile)"
   ]
  },
  {
   "cell_type": "code",
   "execution_count": 36,
   "id": "75dedaf5",
   "metadata": {},
   "outputs": [],
   "source": [
    "with open(\"svg/Arkansas.svg\", \"r\") as f:\n",
    "    data = f.read()\n",
    "Bs_data = BeautifulSoup(data, \"xml\")\n",
    "map = {}\n",
    "length = len(Bs_data.find_all(\"path\"))"
   ]
  },
  {
   "cell_type": "code",
   "execution_count": 37,
   "id": "c1600cef",
   "metadata": {},
   "outputs": [
    {
     "ename": "KeyError",
     "evalue": "'viewBox'",
     "output_type": "error",
     "traceback": [
      "\u001b[0;31m---------------------------------------------------------------------------\u001b[0m",
      "\u001b[0;31mKeyError\u001b[0m                                  Traceback (most recent call last)",
      "\u001b[1;32m/Users/jackqian/Documents/Emory University/Emory College/2022 Fall/CS 485/USHousePriceIndexVis/svgToJSON.ipynb Cell 4\u001b[0m in \u001b[0;36m<module>\u001b[0;34m\u001b[0m\n\u001b[0;32m----> <a href='vscode-notebook-cell:/Users/jackqian/Documents/Emory%20University/Emory%20College/2022%20Fall/CS%20485/USHousePriceIndexVis/svgToJSON.ipynb#X10sZmlsZQ%3D%3D?line=0'>1</a>\u001b[0m \u001b[39mmap\u001b[39m[\u001b[39m\"\u001b[39m\u001b[39mViewBox\u001b[39m\u001b[39m\"\u001b[39m]\u001b[39m=\u001b[39mBs_data\u001b[39m.\u001b[39;49mfind(\u001b[39m\"\u001b[39;49m\u001b[39msvg\u001b[39;49m\u001b[39m\"\u001b[39;49m)[\u001b[39m\"\u001b[39;49m\u001b[39mviewBox\u001b[39;49m\u001b[39m\"\u001b[39;49m]\n\u001b[1;32m      <a href='vscode-notebook-cell:/Users/jackqian/Documents/Emory%20University/Emory%20College/2022%20Fall/CS%20485/USHousePriceIndexVis/svgToJSON.ipynb#X10sZmlsZQ%3D%3D?line=1'>2</a>\u001b[0m \u001b[39mmap\u001b[39m[\u001b[39m\"\u001b[39m\u001b[39mHeight\u001b[39m\u001b[39m\"\u001b[39m]\u001b[39m=\u001b[39mBs_data\u001b[39m.\u001b[39mfind(\u001b[39m\"\u001b[39m\u001b[39msvg\u001b[39m\u001b[39m\"\u001b[39m)[\u001b[39m\"\u001b[39m\u001b[39mheight\u001b[39m\u001b[39m\"\u001b[39m]\n\u001b[1;32m      <a href='vscode-notebook-cell:/Users/jackqian/Documents/Emory%20University/Emory%20College/2022%20Fall/CS%20485/USHousePriceIndexVis/svgToJSON.ipynb#X10sZmlsZQ%3D%3D?line=2'>3</a>\u001b[0m \u001b[39mmap\u001b[39m[\u001b[39m\"\u001b[39m\u001b[39mWidth\u001b[39m\u001b[39m\"\u001b[39m]\u001b[39m=\u001b[39mBs_data\u001b[39m.\u001b[39mfind(\u001b[39m\"\u001b[39m\u001b[39msvg\u001b[39m\u001b[39m\"\u001b[39m)[\u001b[39m\"\u001b[39m\u001b[39mwidth\u001b[39m\u001b[39m\"\u001b[39m]\n",
      "File \u001b[0;32m/Library/Frameworks/Python.framework/Versions/3.10/lib/python3.10/site-packages/bs4/element.py:1486\u001b[0m, in \u001b[0;36mTag.__getitem__\u001b[0;34m(self, key)\u001b[0m\n\u001b[1;32m   1483\u001b[0m \u001b[39mdef\u001b[39;00m \u001b[39m__getitem__\u001b[39m(\u001b[39mself\u001b[39m, key):\n\u001b[1;32m   1484\u001b[0m     \u001b[39m\"\"\"tag[key] returns the value of the 'key' attribute for the Tag,\u001b[39;00m\n\u001b[1;32m   1485\u001b[0m \u001b[39m    and throws an exception if it's not there.\"\"\"\u001b[39;00m\n\u001b[0;32m-> 1486\u001b[0m     \u001b[39mreturn\u001b[39;00m \u001b[39mself\u001b[39;49m\u001b[39m.\u001b[39;49mattrs[key]\n",
      "\u001b[0;31mKeyError\u001b[0m: 'viewBox'"
     ]
    }
   ],
   "source": [
    "map[\"ViewBox\"]=Bs_data.find(\"svg\")[\"viewBox\"]\n",
    "map[\"Height\"]=Bs_data.find(\"svg\")[\"height\"]\n",
    "map[\"Width\"]=Bs_data.find(\"svg\")[\"width\"]\n",
    "map[\"id\"]=Bs_data.find(\"svg\")[\"id\"]"
   ]
  },
  {
   "cell_type": "code",
   "execution_count": 34,
   "id": "6c797407",
   "metadata": {},
   "outputs": [],
   "source": [
    "elements = {}\n",
    "for i in range(length):\n",
    "    county = {}\n",
    "    elements[Bs_data.find_all(\"path\")[i][\"id\"]] = Bs_data.find_all(\"path\")[i][\"d\"]\n",
    "map[\"Paths\"] = elements\n"
   ]
  },
  {
   "cell_type": "code",
   "execution_count": 35,
   "id": "01804696",
   "metadata": {},
   "outputs": [],
   "source": [
    "with open(\"json/Arizona.json\", \"w\") as outfile:\n",
    "    json.dump(map, outfile)"
   ]
  },
  {
   "cell_type": "code",
   "execution_count": null,
   "id": "e7a6faa3",
   "metadata": {},
   "outputs": [],
   "source": []
  }
 ],
 "metadata": {
  "kernelspec": {
   "display_name": "Python 3.10.0 64-bit",
   "language": "python",
   "name": "python3"
  },
  "language_info": {
   "codemirror_mode": {
    "name": "ipython",
    "version": 3
   },
   "file_extension": ".py",
   "mimetype": "text/x-python",
   "name": "python",
   "nbconvert_exporter": "python",
   "pygments_lexer": "ipython3",
   "version": "3.10.0"
  },
  "vscode": {
   "interpreter": {
    "hash": "949777d72b0d2535278d3dc13498b2535136f6dfe0678499012e853ee9abcab1"
   }
  }
 },
 "nbformat": 4,
 "nbformat_minor": 5
}
